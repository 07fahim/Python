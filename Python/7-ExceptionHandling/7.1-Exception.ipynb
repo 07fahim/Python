{
 "cells": [
  {
   "cell_type": "code",
   "execution_count": 1,
   "metadata": {},
   "outputs": [
    {
     "name": "stdout",
     "output_type": "stream",
     "text": [
      "name 'b' is not defined\n"
     ]
    }
   ],
   "source": [
    "try:\n",
    "    a=b\n",
    "except NameError as ex:\n",
    "    print(ex) "
   ]
  },
  {
   "cell_type": "code",
   "execution_count": 3,
   "metadata": {},
   "outputs": [
    {
     "name": "stdout",
     "output_type": "stream",
     "text": [
      "division by zero\n",
      "Please enter a number greater than 0\n"
     ]
    }
   ],
   "source": [
    "try:\n",
    "    result=1/0\n",
    "except ZeroDivisionError as ex:\n",
    "    print(ex)\n",
    "    print(\"Please enter a number greater than 0\")    "
   ]
  },
  {
   "cell_type": "code",
   "execution_count": 4,
   "metadata": {},
   "outputs": [
    {
     "name": "stdout",
     "output_type": "stream",
     "text": [
      "name 'b' is not defined\n",
      "Main exception is caught here\n"
     ]
    }
   ],
   "source": [
    "try:\n",
    "    result=1/2\n",
    "    a=b\n",
    "except ZeroDivisionError as ex:\n",
    "    print(ex)\n",
    "    print(\"Please enter a number greater than 0\") \n",
    "except Exception as ex1:\n",
    "    print(ex1)\n",
    "    print(\"Main exception is caught here\")    "
   ]
  },
  {
   "cell_type": "code",
   "execution_count": 10,
   "metadata": {},
   "outputs": [
    {
     "name": "stdout",
     "output_type": "stream",
     "text": [
      "Please enter a number greater than 0\n"
     ]
    }
   ],
   "source": [
    "try:\n",
    "    num=int(input(\"Enter a number\"))\n",
    "    result=10/num\n",
    "\n",
    "except ValueError:\n",
    "    print(\"This is not a valid number\")\n",
    "except ZeroDivisionError:\n",
    "    print(\"Please enter a number greater than 0\")\n",
    "except Exception as ex:\n",
    "    print(ex)    \n"
   ]
  },
  {
   "cell_type": "code",
   "execution_count": 11,
   "metadata": {},
   "outputs": [
    {
     "name": "stdout",
     "output_type": "stream",
     "text": [
      "The result is 5.0\n"
     ]
    }
   ],
   "source": [
    "try:\n",
    "    num=int(input(\"Enter a number\"))\n",
    "    result=10/num\n",
    "\n",
    "except ValueError:\n",
    "    print(\"This is not a valid number\")\n",
    "except ZeroDivisionError:\n",
    "    print(\"Please enter a number greater than 0\")\n",
    "except Exception as ex:\n",
    "    print(ex)\n",
    "else:\n",
    "    print(f'The result is {result}')      "
   ]
  },
  {
   "cell_type": "code",
   "execution_count": 12,
   "metadata": {},
   "outputs": [
    {
     "name": "stdout",
     "output_type": "stream",
     "text": [
      "The result is 5.0\n",
      "Execution Complete\n"
     ]
    }
   ],
   "source": [
    "try:\n",
    "    num=int(input(\"Enter a number\"))\n",
    "    result=10/num\n",
    "\n",
    "except ValueError:\n",
    "    print(\"This is not a valid number\")\n",
    "except ZeroDivisionError:\n",
    "    print(\"Please enter a number greater than 0\")\n",
    "except Exception as ex:\n",
    "    print(ex)\n",
    "else:\n",
    "    print(f'The result is {result}')\n",
    "\n",
    "finally:\n",
    "    print(\"Execution Complete\")      "
   ]
  },
  {
   "cell_type": "code",
   "execution_count": 16,
   "metadata": {},
   "outputs": [
    {
     "name": "stdout",
     "output_type": "stream",
     "text": [
      "name 'b' is not defined\n",
      "File closed\n"
     ]
    }
   ],
   "source": [
    "try:\n",
    "    file=open('example.txt','r')\n",
    "    content=file.read()\n",
    "    a=b\n",
    "    print(content)\n",
    "except FileNotFoundError:\n",
    "    print(\"This file does not exists\")\n",
    "except Exception as ex:\n",
    "    print(ex)    \n",
    "finally:\n",
    "    if 'file' in locals() or not file.closed():\n",
    "        file.close()\n",
    "        print('File closed')        "
   ]
  }
 ],
 "metadata": {
  "kernelspec": {
   "display_name": "venv",
   "language": "python",
   "name": "python3"
  },
  "language_info": {
   "codemirror_mode": {
    "name": "ipython",
    "version": 3
   },
   "file_extension": ".py",
   "mimetype": "text/x-python",
   "name": "python",
   "nbconvert_exporter": "python",
   "pygments_lexer": "ipython3",
   "version": "3.12.7"
  }
 },
 "nbformat": 4,
 "nbformat_minor": 2
}
