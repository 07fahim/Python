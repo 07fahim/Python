{
 "cells": [
  {
   "cell_type": "code",
   "execution_count": 7,
   "metadata": {},
   "outputs": [
    {
     "name": "stdout",
     "output_type": "stream",
     "text": [
      "4\n",
      "5\n",
      "petrol\n",
      "The person will drive petrol car\n"
     ]
    }
   ],
   "source": [
    "# single inheritance\n",
    "\n",
    "class Car:\n",
    "    def __init__(self,windows,doors,engineType):\n",
    "        self.windows=windows\n",
    "        self.doors=doors\n",
    "        self.engineType=engineType\n",
    "    def drive(self):\n",
    "        print(f\"The person will drive {self.engineType} car\")\n",
    "audi=Car(4,5,'petrol')\n",
    "print(audi.windows)\n",
    "print(audi.doors)\n",
    "print(audi.engineType)\n",
    "audi.drive()\n",
    "            "
   ]
  },
  {
   "cell_type": "code",
   "execution_count": 9,
   "metadata": {},
   "outputs": [],
   "source": [
    "class Tesla(Car):\n",
    "    def __init__(self, windows, doors, engineType,is_selfdriving):\n",
    "        super().__init__(windows, doors, engineType)\n",
    "        self.is_selfdriving=is_selfdriving\n",
    "\n",
    "    def selfdriving(self):\n",
    "        print(f\"Tesla supports self driving :{self.is_selfdriving}\")    "
   ]
  },
  {
   "cell_type": "code",
   "execution_count": 13,
   "metadata": {},
   "outputs": [
    {
     "name": "stdout",
     "output_type": "stream",
     "text": [
      "4\n",
      "5\n",
      "electronic\n",
      "Tesla supports self driving :True\n",
      "The person will drive electronic car\n"
     ]
    }
   ],
   "source": [
    "tesla1=Tesla(4,5,'electronic',True)\n",
    "print(tesla1.windows)\n",
    "print(tesla1.doors)\n",
    "print(tesla1.engineType)\n",
    "tesla1.selfdriving()\n",
    "tesla1.drive()"
   ]
  },
  {
   "cell_type": "code",
   "execution_count": 1,
   "metadata": {},
   "outputs": [],
   "source": [
    "## Multiple Inheritance\n",
    "#base class 1\n",
    "class Animal():\n",
    "    def __init__(self,name):\n",
    "        self.name=name\n",
    "    def speak(self):\n",
    "        print(\"Subclass must implement this method\") \n",
    "\n",
    "#base class 2\n",
    "class Pet():\n",
    "    def __init__(self,owner):\n",
    "        self.owner=owner\n",
    "\n",
    "#derived class\n",
    "\n",
    "class Dog(Animal,Pet):\n",
    "    def __init__(self, name,owner):\n",
    "        Animal.__init__(self,name)\n",
    "        Pet.__init__(self,owner)\n",
    "\n",
    "    def speak(self):\n",
    "        return f\"{self.name} says woof\"           \n",
    "\n",
    "                   \n",
    "        "
   ]
  },
  {
   "cell_type": "code",
   "execution_count": 4,
   "metadata": {},
   "outputs": [
    {
     "name": "stdout",
     "output_type": "stream",
     "text": [
      "Buky says woof\n",
      "Owner is Fahim\n"
     ]
    }
   ],
   "source": [
    "dog1=Dog(\"Buky\",\"Fahim\")\n",
    "print(dog1.speak())\n",
    "print(f\"Owner is {dog1.owner}\")"
   ]
  }
 ],
 "metadata": {
  "kernelspec": {
   "display_name": "venv",
   "language": "python",
   "name": "python3"
  },
  "language_info": {
   "codemirror_mode": {
    "name": "ipython",
    "version": 3
   },
   "file_extension": ".py",
   "mimetype": "text/x-python",
   "name": "python",
   "nbconvert_exporter": "python",
   "pygments_lexer": "ipython3",
   "version": "3.12.7"
  }
 },
 "nbformat": 4,
 "nbformat_minor": 2
}
