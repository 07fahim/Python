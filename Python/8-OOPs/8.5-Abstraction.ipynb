{
 "cells": [
  {
   "cell_type": "code",
   "execution_count": 14,
   "metadata": {},
   "outputs": [
    {
     "name": "stdout",
     "output_type": "stream",
     "text": [
      "Laptop running\n",
      "The device is shut down\n",
      "Laptop running\n"
     ]
    }
   ],
   "source": [
    "from abc import ABC,abstractmethod\n",
    "class Computer(ABC):\n",
    "    @abstractmethod\n",
    "    def process(self):\n",
    "        pass\n",
    "    def shut_down(self):\n",
    "        print(\"The device is shut down\")\n",
    "class Laptop(Computer):\n",
    "    def process(self):\n",
    "        print(\"Laptop running\")\n",
    "    def shut_down(self):\n",
    "        return super().shut_down()\n",
    "    \n",
    "def device_process(device):\n",
    "    device.process()    \n",
    "\n",
    "laptop=Laptop()\n",
    "laptop.process()\n",
    "laptop.shut_down()\n",
    "device_process(laptop)   "
   ]
  }
 ],
 "metadata": {
  "kernelspec": {
   "display_name": "venv",
   "language": "python",
   "name": "python3"
  },
  "language_info": {
   "codemirror_mode": {
    "name": "ipython",
    "version": 3
   },
   "file_extension": ".py",
   "mimetype": "text/x-python",
   "name": "python",
   "nbconvert_exporter": "python",
   "pygments_lexer": "ipython3",
   "version": "3.12.7"
  }
 },
 "nbformat": 4,
 "nbformat_minor": 2
}
