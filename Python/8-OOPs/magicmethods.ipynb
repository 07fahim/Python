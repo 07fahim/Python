{
 "cells": [
  {
   "cell_type": "markdown",
   "metadata": {},
   "source": [
    "Magic methods are predefined methods in Python that you can override to change the behavior of your objects. Some common magic methods include:\n",
    " "
   ]
  },
  {
   "cell_type": "code",
   "execution_count": 1,
   "metadata": {},
   "outputs": [
    {
     "data": {
      "text/plain": [
       "\"_init_': Initializes a new instance of a class.\\n_\\nstr_: Returns a string representation of an object.\\n_repr_: Returns an official string representation of an object.\\n_len_:\\nReturns the length of an object.\\n_getitem_: Gets an item from a container.\\nsetitem: Sets an item in a container.\""
      ]
     },
     "execution_count": 1,
     "metadata": {},
     "output_type": "execute_result"
    }
   ],
   "source": [
    "\"\"\"_init_': Initializes a new instance of a class.\n",
    "_\n",
    "str_: Returns a string representation of an object.\n",
    "_repr_: Returns an official string representation of an object.\n",
    "_len_:\n",
    "Returns the length of an object.\n",
    "_getitem_: Gets an item from a container.\n",
    "setitem: Sets an item in a container.\"\"\""
   ]
  }
 ],
 "metadata": {
  "kernelspec": {
   "display_name": "venv",
   "language": "python",
   "name": "python3"
  },
  "language_info": {
   "codemirror_mode": {
    "name": "ipython",
    "version": 3
   },
   "file_extension": ".py",
   "mimetype": "text/x-python",
   "name": "python",
   "nbconvert_exporter": "python",
   "pygments_lexer": "ipython3",
   "version": "3.12.7"
  }
 },
 "nbformat": 4,
 "nbformat_minor": 2
}
