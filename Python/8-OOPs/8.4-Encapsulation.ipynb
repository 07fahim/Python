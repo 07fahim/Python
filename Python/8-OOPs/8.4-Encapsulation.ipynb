{
 "cells": [
  {
   "cell_type": "code",
   "execution_count": 2,
   "metadata": {},
   "outputs": [
    {
     "name": "stdout",
     "output_type": "stream",
     "text": [
      "Fahim\n",
      "25\n",
      "Fahim\n"
     ]
    }
   ],
   "source": [
    "## public variable\n",
    "\n",
    "class Person:\n",
    "    def __init__(self,name,age):\n",
    "        self.name=name\n",
    "        self.age=age\n",
    "\n",
    "def char(char):\n",
    "           print(char.name)\n",
    "\n",
    "person=Person(\"Fahim\",25)\n",
    "print(person.name)\n",
    "print(person.age) \n",
    "char(person)"
   ]
  }
 ],
 "metadata": {
  "kernelspec": {
   "display_name": "venv",
   "language": "python",
   "name": "python3"
  },
  "language_info": {
   "codemirror_mode": {
    "name": "ipython",
    "version": 3
   },
   "file_extension": ".py",
   "mimetype": "text/x-python",
   "name": "python",
   "nbconvert_exporter": "python",
   "pygments_lexer": "ipython3",
   "version": "3.12.7"
  }
 },
 "nbformat": 4,
 "nbformat_minor": 2
}
