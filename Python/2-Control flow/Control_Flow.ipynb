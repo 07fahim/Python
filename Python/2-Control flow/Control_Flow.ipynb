{
 "cells": [
  {
   "cell_type": "code",
   "execution_count": 5,
   "metadata": {},
   "outputs": [
    {
     "name": "stdout",
     "output_type": "stream",
     "text": [
      "A-\n"
     ]
    }
   ],
   "source": [
    "marks=85\n",
    "\n",
    "if marks>=93:\n",
    "    print(\"A+\")\n",
    "elif marks>=85:\n",
    "    print(\"A-\")\n",
    "else:\n",
    "    print(\"F\")\n"
   ]
  },
  {
   "cell_type": "code",
   "execution_count": 9,
   "metadata": {},
   "outputs": [
    {
     "name": "stdout",
     "output_type": "stream",
     "text": [
      "Zero or Negative Number\n"
     ]
    }
   ],
   "source": [
    "## Nested conditional statement\n",
    "\n",
    "num=int(input(\"Enter a Number\"))\n",
    "\n",
    "if num>0:\n",
    "    print(\"Positive Number\")\n",
    "    if num %2==0:\n",
    "        print(\"Even Number\")\n",
    "    else:\n",
    "        print(\"Odd Number\")\n",
    "\n",
    "else:\n",
    "    print(\"Zero or Negative Number\")            "
   ]
  },
  {
   "cell_type": "code",
   "execution_count": 19,
   "metadata": {},
   "outputs": [
    {
     "name": "stdout",
     "output_type": "stream",
     "text": [
      "2016 is a leap year\n"
     ]
    }
   ],
   "source": [
    "year=int(input(\"Enter a year\"))\n",
    "\n",
    "if year%4==0:\n",
    "    if year%100==0:\n",
    "        if year%400==0:\n",
    "            print(year,\"is a leap year\")\n",
    "        else:\n",
    "            print(year,\"is  a leap year\")\n",
    "    else:\n",
    "         print(year,\"is a leap year\")\n",
    "else:\n",
    "    print(year,\"is not a leap year\")                    "
   ]
  },
  {
   "cell_type": "code",
   "execution_count": 25,
   "metadata": {},
   "outputs": [
    {
     "name": "stdout",
     "output_type": "stream",
     "text": [
      "Result : 0.0\n"
     ]
    }
   ],
   "source": [
    "## simple calculator\n",
    "\n",
    "num1=float(input(\"Enter your First number\"))\n",
    "num2=float(input(\"Enter your First number\"))\n",
    "operation=input(\"Enter a operation(+,-,*,/,%): \")\n",
    "\n",
    "if operation==\"+\":\n",
    "    result=num1+num2\n",
    "elif operation==\"-\":\n",
    "    result=num1+num2\n",
    "elif operation==\"*\":\n",
    "    result=num1*num2\n",
    "elif operation==\"/\":\n",
    "    if num2!=0:\n",
    "        result=num1/num2\n",
    "    else:\n",
    "        result=\"Error!,not divisable by zero\"\n",
    "elif operation==\"%\":\n",
    "    result=num1%num2\n",
    "else:\n",
    "    result=\"Invalid input\"\n",
    "\n",
    "print(\"Result :\",result)                    \n",
    "\n",
    "\n",
    "         "
   ]
  },
  {
   "cell_type": "code",
   "execution_count": 28,
   "metadata": {},
   "outputs": [
    {
     "name": "stdout",
     "output_type": "stream",
     "text": [
      "Price is :  25$\n"
     ]
    }
   ],
   "source": [
    "age=int(input(\"Enter your age\"))\n",
    "is_student=input(\"Are you a student (yes/no): \").lower()\n",
    "\n",
    "if age<5:\n",
    "    price=\"5$\"\n",
    "elif age<12:\n",
    "    price=\"7$\"\n",
    "elif age<15:\n",
    "    if is_student==\"yes\":\n",
    "        price=\"Free\"\n",
    "    else:\n",
    "        price=\"10$\"\n",
    "elif age<30:\n",
    "    if is_student ==\"no\":\n",
    "        price=\"20$\"\n",
    "    else:\n",
    "        price==\"15$\"\n",
    "else:\n",
    "    price=\"25$\"\n",
    "\n",
    "print(\"Price is : \",price)"
   ]
  }
 ],
 "metadata": {
  "kernelspec": {
   "display_name": "base",
   "language": "python",
   "name": "python3"
  },
  "language_info": {
   "codemirror_mode": {
    "name": "ipython",
    "version": 3
   },
   "file_extension": ".py",
   "mimetype": "text/x-python",
   "name": "python",
   "nbconvert_exporter": "python",
   "pygments_lexer": "ipython3",
   "version": "3.12.7"
  }
 },
 "nbformat": 4,
 "nbformat_minor": 2
}
