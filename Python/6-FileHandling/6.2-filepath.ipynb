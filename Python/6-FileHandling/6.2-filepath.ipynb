{
 "cells": [
  {
   "cell_type": "code",
   "execution_count": 3,
   "metadata": {},
   "outputs": [
    {
     "name": "stdout",
     "output_type": "stream",
     "text": [
      "Current Directory is d:\\Udemy-GenAI\\Python\\6-FileHandling\n"
     ]
    }
   ],
   "source": [
    "import os\n",
    "\n",
    "cwd=os.getcwd()\n",
    "print(f'Current Directory is {cwd}')"
   ]
  },
  {
   "cell_type": "code",
   "execution_count": 4,
   "metadata": {},
   "outputs": [
    {
     "name": "stdout",
     "output_type": "stream",
     "text": [
      "Package\n"
     ]
    }
   ],
   "source": [
    "new_directory='Package'\n",
    "os.mkdir(new_directory)\n",
    "print(new_directory)"
   ]
  },
  {
   "cell_type": "code",
   "execution_count": 6,
   "metadata": {},
   "outputs": [
    {
     "name": "stdout",
     "output_type": "stream",
     "text": [
      "folder\\file.txt\n"
     ]
    }
   ],
   "source": [
    "dir_name='folder'\n",
    "file_name='file.txt'\n",
    "full_path=os.path.join(dir_name,file_name)\n",
    "print(full_path)"
   ]
  },
  {
   "cell_type": "code",
   "execution_count": 7,
   "metadata": {},
   "outputs": [
    {
     "name": "stdout",
     "output_type": "stream",
     "text": [
      "d:\\Udemy-GenAI\\Python\\6-FileHandling\\folder\\file.txt\n"
     ]
    }
   ],
   "source": [
    "dir_name='folder'\n",
    "file_name='file.txt'\n",
    "full_path=os.path.join(os.getcwd(),dir_name,file_name)\n",
    "print(full_path)"
   ]
  },
  {
   "cell_type": "code",
   "execution_count": 8,
   "metadata": {},
   "outputs": [
    {
     "name": "stdout",
     "output_type": "stream",
     "text": [
      "The path  example1.txt does not exists\n"
     ]
    }
   ],
   "source": [
    "path='example1.txt'\n",
    "\n",
    "if os.path.exists(path):\n",
    "    print(f'The path  {path} exists')\n",
    "\n",
    "else:\n",
    "    print(f'The path  {path} does not exists')\n"
   ]
  },
  {
   "cell_type": "code",
   "execution_count": 11,
   "metadata": {},
   "outputs": [
    {
     "name": "stdout",
     "output_type": "stream",
     "text": [
      "The path  example.txt is a file\n"
     ]
    }
   ],
   "source": [
    "path='example.txt'\n",
    "\n",
    "if os.path.isfile(path):\n",
    "    print(f'The path  {path} is a file')\n",
    "elif os.path.isdir(path):\n",
    "    print(f'The path  {path} is a directory')\n",
    "else:\n",
    "    print(f'The path  {path} is neither file or directory')        \n"
   ]
  },
  {
   "cell_type": "code",
   "execution_count": 12,
   "metadata": {},
   "outputs": [
    {
     "name": "stdout",
     "output_type": "stream",
     "text": [
      "d:\\Udemy-GenAI\\Python\\6-FileHandling\\example.txt\n"
     ]
    }
   ],
   "source": [
    "relative_path='example.txt'\n",
    "absolute_path=os.path.abspath(relative_path)\n",
    "print(absolute_path)"
   ]
  }
 ],
 "metadata": {
  "kernelspec": {
   "display_name": "venv",
   "language": "python",
   "name": "python3"
  },
  "language_info": {
   "codemirror_mode": {
    "name": "ipython",
    "version": 3
   },
   "file_extension": ".py",
   "mimetype": "text/x-python",
   "name": "python",
   "nbconvert_exporter": "python",
   "pygments_lexer": "ipython3",
   "version": "3.12.7"
  }
 },
 "nbformat": 4,
 "nbformat_minor": 2
}
