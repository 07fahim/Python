{
 "cells": [
  {
   "cell_type": "code",
   "execution_count": 4,
   "metadata": {},
   "outputs": [
    {
     "name": "stdout",
     "output_type": "stream",
     "text": [
      "Hi, I am Fahim Faiyaz\n",
      "i am 25 years old\n",
      "i am interested in Gen AI\n",
      "Hi, I am Fahim Faiyaz\n",
      "i am 25 years old\n",
      "i am interested in Gen AI\n"
     ]
    }
   ],
   "source": [
    "with open('example.txt','r') as file:\n",
    "    content=file.read()\n",
    "    print(content)\n",
    "\n",
    "with open('example.txt','r') as file:\n",
    "    for line in file:\n",
    "        print(line.strip())\n"
   ]
  },
  {
   "cell_type": "code",
   "execution_count": 6,
   "metadata": {},
   "outputs": [],
   "source": [
    "## file writh with overwritting\n",
    "\n",
    "with open('example.txt','w') as file:\n",
    "    file.write(\"Hello World\\n\")\n",
    "    file.write(\"This is new line\")"
   ]
  },
  {
   "cell_type": "code",
   "execution_count": 8,
   "metadata": {},
   "outputs": [],
   "source": [
    "## file writh with0ut overwritting\n",
    "\n",
    "with open('example.txt','a') as file:\n",
    "    file.write(\"\\nHello World\\n\")\n",
    "    file.write(\"This is new line\")"
   ]
  },
  {
   "cell_type": "code",
   "execution_count": 9,
   "metadata": {},
   "outputs": [],
   "source": [
    "lines=[\"First line\",\"\\n Second line\",\"\\n Third line\"]\n",
    "with open('example.txt','a') as file:\n",
    "    file.writelines(lines)"
   ]
  },
  {
   "cell_type": "code",
   "execution_count": 2,
   "metadata": {},
   "outputs": [],
   "source": [
    "## binary file \n",
    "data=b'\\x01\\x02\\x03\\x04\\x05'\n",
    "with open(\"example.bin\",'wb') as file:\n",
    "    file.write(data)"
   ]
  },
  {
   "cell_type": "code",
   "execution_count": 3,
   "metadata": {},
   "outputs": [
    {
     "name": "stdout",
     "output_type": "stream",
     "text": [
      "b'\\x01\\x02\\x03\\x04\\x05'\n"
     ]
    }
   ],
   "source": [
    "with open(\"example.bin\",'rb') as file:\n",
    "    content=file.read()\n",
    "    print(content)"
   ]
  },
  {
   "cell_type": "code",
   "execution_count": 5,
   "metadata": {},
   "outputs": [],
   "source": [
    "with open('example.txt','r') as source_file:\n",
    "    content=source_file.read()\n",
    "\n",
    "with open('destination.txt','w') as destination_file:\n",
    "    destination_file.write(content)    "
   ]
  },
  {
   "cell_type": "code",
   "execution_count": 6,
   "metadata": {},
   "outputs": [
    {
     "name": "stdout",
     "output_type": "stream",
     "text": [
      "Lines :7, Words :22, characters :120\n"
     ]
    }
   ],
   "source": [
    "def count_text_file(file_path):\n",
    "    with open(file_path,'r') as file:\n",
    "        lines=file.readlines()\n",
    "        line_count=len(lines)\n",
    "        word_count=sum(len(line.split()) for line in lines)\n",
    "        character_count=sum(len(line) for line in lines)\n",
    "        return line_count,word_count,character_count\n",
    "\n",
    "\n",
    "file_path='example.txt'\n",
    "lines,words,characters=count_text_file(file_path)\n",
    "print(f'Lines :{lines}, Words :{words}, characters :{characters}')    "
   ]
  },
  {
   "cell_type": "code",
   "execution_count": 9,
   "metadata": {},
   "outputs": [
    {
     "name": "stdout",
     "output_type": "stream",
     "text": [
      "Hello world\n",
      "This is a new line\n",
      "\n"
     ]
    }
   ],
   "source": [
    "with open('example.txt','w+') as file:\n",
    "    file.write(\"Hello world\\n\")\n",
    "    file.write(\"This is a new line\\n\")\n",
    "\n",
    "    file.seek(0)\n",
    "\n",
    "    content=file.read()\n",
    "    print(content)\n",
    "\n"
   ]
  }
 ],
 "metadata": {
  "kernelspec": {
   "display_name": "venv",
   "language": "python",
   "name": "python3"
  },
  "language_info": {
   "codemirror_mode": {
    "name": "ipython",
    "version": 3
   },
   "file_extension": ".py",
   "mimetype": "text/x-python",
   "name": "python",
   "nbconvert_exporter": "python",
   "pygments_lexer": "ipython3",
   "version": "3.12.7"
  }
 },
 "nbformat": 4,
 "nbformat_minor": 2
}
