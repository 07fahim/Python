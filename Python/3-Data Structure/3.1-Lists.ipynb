{
 "cells": [
  {
   "cell_type": "code",
   "execution_count": 1,
   "metadata": {},
   "outputs": [
    {
     "name": "stdout",
     "output_type": "stream",
     "text": [
      "<class 'list'>\n"
     ]
    }
   ],
   "source": [
    "list=[]\n",
    "\n",
    "print(type(list))"
   ]
  },
  {
   "cell_type": "code",
   "execution_count": 2,
   "metadata": {},
   "outputs": [
    {
     "name": "stdout",
     "output_type": "stream",
     "text": [
      "['fahim', 'mainu', 'rabby', 'waser', 'ammar']\n"
     ]
    }
   ],
   "source": [
    "names=[\"fahim\",\"mainu\",\"rabby\",\"waser\",\"ammar\"]\n",
    "\n",
    "print(names)"
   ]
  },
  {
   "cell_type": "code",
   "execution_count": 8,
   "metadata": {},
   "outputs": [
    {
     "name": "stdout",
     "output_type": "stream",
     "text": [
      "fahim\n",
      "ammar\n",
      "['mainu', 'rabby', 'waser']\n",
      "['fahim', 'mainu', 'rabby', 'waser', 'ammar']\n"
     ]
    }
   ],
   "source": [
    "print(names[0])\n",
    "print(names[-1])\n",
    "print(names[1:4])\n",
    "print(names[0:])"
   ]
  },
  {
   "cell_type": "code",
   "execution_count": 7,
   "metadata": {},
   "outputs": [
    {
     "name": "stdout",
     "output_type": "stream",
     "text": [
      "['fahim', 0, True, 1, 23]\n"
     ]
    }
   ],
   "source": [
    "mixed_lis=[\"fahim\",0,True,1,23]\n",
    "\n",
    "print(mixed_lis)"
   ]
  },
  {
   "cell_type": "code",
   "execution_count": 9,
   "metadata": {},
   "outputs": [
    {
     "name": "stdout",
     "output_type": "stream",
     "text": [
      "['fahim', 'Hasan', 'rabby', 'waser', 'ammar']\n"
     ]
    }
   ],
   "source": [
    "names[1]=\"Hasan\"\n",
    "print(names)"
   ]
  },
  {
   "cell_type": "code",
   "execution_count": 10,
   "metadata": {},
   "outputs": [
    {
     "name": "stdout",
     "output_type": "stream",
     "text": [
      "['fahim', 'm', 'a', 'i', 'n', 'u']\n"
     ]
    }
   ],
   "source": [
    "names[1:]=\"mainu\"\n",
    "print(names)"
   ]
  },
  {
   "cell_type": "code",
   "execution_count": 13,
   "metadata": {},
   "outputs": [
    {
     "name": "stdout",
     "output_type": "stream",
     "text": [
      "['fahim', 'mainu', 'rabby', 'waser', 'ammar', 'adib']\n"
     ]
    }
   ],
   "source": [
    "names=[\"fahim\",\"mainu\",\"rabby\",\"waser\",\"ammar\"]\n",
    "\n",
    "names.append(\"adib\")\n",
    "print(names)"
   ]
  },
  {
   "cell_type": "code",
   "execution_count": 18,
   "metadata": {},
   "outputs": [
    {
     "name": "stdout",
     "output_type": "stream",
     "text": [
      "['rabby', 'waser', 'ammar', 'adib']\n"
     ]
    }
   ],
   "source": [
    "\"\"\"names.remove(\"fahim\")\n",
    "print(names)\"\"\"\n",
    "del names[0]\n",
    "print(names)"
   ]
  },
  {
   "cell_type": "code",
   "execution_count": 20,
   "metadata": {},
   "outputs": [
    {
     "name": "stdout",
     "output_type": "stream",
     "text": [
      "['fahim', 'fahim', 'rabby', 'waser', 'ammar', 'adib']\n",
      "['fahim', 'mainu', 'fahim', 'rabby', 'waser', 'ammar', 'adib']\n"
     ]
    }
   ],
   "source": [
    "names.insert(0,\"fahim\")\n",
    "print(names)\n",
    "\n",
    "names.insert(1,\"mainu\")\n",
    "print(names)"
   ]
  },
  {
   "cell_type": "code",
   "execution_count": 25,
   "metadata": {},
   "outputs": [
    {
     "name": "stdout",
     "output_type": "stream",
     "text": [
      "waser\n",
      "['fahim', 'mainu', 'fahim', 'rabby']\n"
     ]
    }
   ],
   "source": [
    "# return and remove the last element\n",
    "\n",
    "Pooped_result=names.pop()\n",
    "print(Pooped_result)\n",
    "print(names)"
   ]
  },
  {
   "cell_type": "code",
   "execution_count": 26,
   "metadata": {},
   "outputs": [
    {
     "name": "stdout",
     "output_type": "stream",
     "text": [
      "0\n"
     ]
    }
   ],
   "source": [
    "index=names.index(\"fahim\")\n",
    "print(index)"
   ]
  },
  {
   "cell_type": "code",
   "execution_count": 30,
   "metadata": {},
   "outputs": [
    {
     "name": "stdout",
     "output_type": "stream",
     "text": [
      "2\n",
      "['fahim', 'mainu', 'Fahim', 'Fahim', 'fahim', 'rabby']\n"
     ]
    }
   ],
   "source": [
    "names.insert(2,\"Fahim\")\n",
    "print(names.count(\"fahim\"))\n",
    "print(names)"
   ]
  },
  {
   "cell_type": "code",
   "execution_count": null,
   "metadata": {},
   "outputs": [
    {
     "data": {
      "text/plain": [
       "['Fahim', 'Fahim', 'fahim', 'fahim', 'mainu', 'rabby']"
      ]
     },
     "execution_count": 31,
     "metadata": {},
     "output_type": "execute_result"
    }
   ],
   "source": [
    "names.sort()\n"
   ]
  },
  {
   "cell_type": "code",
   "execution_count": 32,
   "metadata": {},
   "outputs": [
    {
     "data": {
      "text/plain": [
       "['Fahim', 'Fahim', 'fahim', 'fahim', 'mainu', 'rabby']"
      ]
     },
     "execution_count": 32,
     "metadata": {},
     "output_type": "execute_result"
    }
   ],
   "source": [
    "names"
   ]
  },
  {
   "cell_type": "code",
   "execution_count": 33,
   "metadata": {},
   "outputs": [
    {
     "data": {
      "text/plain": [
       "['rabby', 'mainu', 'fahim', 'fahim', 'Fahim', 'Fahim']"
      ]
     },
     "execution_count": 33,
     "metadata": {},
     "output_type": "execute_result"
    }
   ],
   "source": [
    "names.reverse()\n",
    "\n",
    "names"
   ]
  },
  {
   "cell_type": "code",
   "execution_count": 34,
   "metadata": {},
   "outputs": [
    {
     "data": {
      "text/plain": [
       "[]"
      ]
     },
     "execution_count": 34,
     "metadata": {},
     "output_type": "execute_result"
    }
   ],
   "source": [
    "names.clear()\n",
    "\n",
    "names"
   ]
  }
 ],
 "metadata": {
  "kernelspec": {
   "display_name": "base",
   "language": "python",
   "name": "python3"
  },
  "language_info": {
   "codemirror_mode": {
    "name": "ipython",
    "version": 3
   },
   "file_extension": ".py",
   "mimetype": "text/x-python",
   "name": "python",
   "nbconvert_exporter": "python",
   "pygments_lexer": "ipython3",
   "version": "3.12.7"
  }
 },
 "nbformat": 4,
 "nbformat_minor": 2
}
