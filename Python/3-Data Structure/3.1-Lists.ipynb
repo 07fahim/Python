{
 "cells": [
  {
   "cell_type": "code",
   "execution_count": 1,
   "metadata": {},
   "outputs": [
    {
     "name": "stdout",
     "output_type": "stream",
     "text": [
      "<class 'list'>\n"
     ]
    }
   ],
   "source": [
    "list=[]\n",
    "\n",
    "print(type(list))"
   ]
  },
  {
   "cell_type": "code",
   "execution_count": 2,
   "metadata": {},
   "outputs": [
    {
     "name": "stdout",
     "output_type": "stream",
     "text": [
      "['fahim', 'mainu', 'rabby', 'waser', 'ammar']\n"
     ]
    }
   ],
   "source": [
    "names=[\"fahim\",\"mainu\",\"rabby\",\"waser\",\"ammar\"]\n",
    "\n",
    "print(names)"
   ]
  },
  {
   "cell_type": "code",
   "execution_count": 8,
   "metadata": {},
   "outputs": [
    {
     "name": "stdout",
     "output_type": "stream",
     "text": [
      "fahim\n",
      "ammar\n",
      "['mainu', 'rabby', 'waser']\n",
      "['fahim', 'mainu', 'rabby', 'waser', 'ammar']\n"
     ]
    }
   ],
   "source": [
    "print(names[0])\n",
    "print(names[-1])\n",
    "print(names[1:4])\n",
    "print(names[0:])"
   ]
  },
  {
   "cell_type": "code",
   "execution_count": 7,
   "metadata": {},
   "outputs": [
    {
     "name": "stdout",
     "output_type": "stream",
     "text": [
      "['fahim', 0, True, 1, 23]\n"
     ]
    }
   ],
   "source": [
    "mixed_lis=[\"fahim\",0,True,1,23]\n",
    "\n",
    "print(mixed_lis)"
   ]
  },
  {
   "cell_type": "code",
   "execution_count": 9,
   "metadata": {},
   "outputs": [
    {
     "name": "stdout",
     "output_type": "stream",
     "text": [
      "['fahim', 'Hasan', 'rabby', 'waser', 'ammar']\n"
     ]
    }
   ],
   "source": [
    "names[1]=\"Hasan\"\n",
    "print(names)"
   ]
  },
  {
   "cell_type": "code",
   "execution_count": 10,
   "metadata": {},
   "outputs": [
    {
     "name": "stdout",
     "output_type": "stream",
     "text": [
      "['fahim', 'm', 'a', 'i', 'n', 'u']\n"
     ]
    }
   ],
   "source": [
    "names[1:]=\"mainu\"\n",
    "print(names)"
   ]
  },
  {
   "cell_type": "code",
   "execution_count": 13,
   "metadata": {},
   "outputs": [
    {
     "name": "stdout",
     "output_type": "stream",
     "text": [
      "['fahim', 'mainu', 'rabby', 'waser', 'ammar', 'adib']\n"
     ]
    }
   ],
   "source": [
    "names=[\"fahim\",\"mainu\",\"rabby\",\"waser\",\"ammar\"]\n",
    "\n",
    "names.append(\"adib\")\n",
    "print(names)"
   ]
  },
  {
   "cell_type": "code",
   "execution_count": 18,
   "metadata": {},
   "outputs": [
    {
     "name": "stdout",
     "output_type": "stream",
     "text": [
      "['rabby', 'waser', 'ammar', 'adib']\n"
     ]
    }
   ],
   "source": [
    "\"\"\"names.remove(\"fahim\")\n",
    "print(names)\"\"\"\n",
    "del names[0]\n",
    "print(names)"
   ]
  },
  {
   "cell_type": "code",
   "execution_count": 20,
   "metadata": {},
   "outputs": [
    {
     "name": "stdout",
     "output_type": "stream",
     "text": [
      "['fahim', 'fahim', 'rabby', 'waser', 'ammar', 'adib']\n",
      "['fahim', 'mainu', 'fahim', 'rabby', 'waser', 'ammar', 'adib']\n"
     ]
    }
   ],
   "source": [
    "names.insert(0,\"fahim\")\n",
    "print(names)\n",
    "\n",
    "names.insert(1,\"mainu\")\n",
    "print(names)"
   ]
  },
  {
   "cell_type": "code",
   "execution_count": 25,
   "metadata": {},
   "outputs": [
    {
     "name": "stdout",
     "output_type": "stream",
     "text": [
      "waser\n",
      "['fahim', 'mainu', 'fahim', 'rabby']\n"
     ]
    }
   ],
   "source": [
    "# return and remove the last element\n",
    "\n",
    "Pooped_result=names.pop()\n",
    "print(Pooped_result)\n",
    "print(names)"
   ]
  },
  {
   "cell_type": "code",
   "execution_count": 26,
   "metadata": {},
   "outputs": [
    {
     "name": "stdout",
     "output_type": "stream",
     "text": [
      "0\n"
     ]
    }
   ],
   "source": [
    "index=names.index(\"fahim\")\n",
    "print(index)"
   ]
  },
  {
   "cell_type": "code",
   "execution_count": 30,
   "metadata": {},
   "outputs": [
    {
     "name": "stdout",
     "output_type": "stream",
     "text": [
      "2\n",
      "['fahim', 'mainu', 'Fahim', 'Fahim', 'fahim', 'rabby']\n"
     ]
    }
   ],
   "source": [
    "names.insert(2,\"Fahim\")\n",
    "print(names.count(\"fahim\"))\n",
    "print(names)"
   ]
  },
  {
   "cell_type": "code",
   "execution_count": null,
   "metadata": {},
   "outputs": [
    {
     "data": {
      "text/plain": [
       "['Fahim', 'Fahim', 'fahim', 'fahim', 'mainu', 'rabby']"
      ]
     },
     "execution_count": 31,
     "metadata": {},
     "output_type": "execute_result"
    }
   ],
   "source": [
    "names.sort()\n"
   ]
  },
  {
   "cell_type": "code",
   "execution_count": 32,
   "metadata": {},
   "outputs": [
    {
     "data": {
      "text/plain": [
       "['Fahim', 'Fahim', 'fahim', 'fahim', 'mainu', 'rabby']"
      ]
     },
     "execution_count": 32,
     "metadata": {},
     "output_type": "execute_result"
    }
   ],
   "source": [
    "names"
   ]
  },
  {
   "cell_type": "code",
   "execution_count": 33,
   "metadata": {},
   "outputs": [
    {
     "data": {
      "text/plain": [
       "['rabby', 'mainu', 'fahim', 'fahim', 'Fahim', 'Fahim']"
      ]
     },
     "execution_count": 33,
     "metadata": {},
     "output_type": "execute_result"
    }
   ],
   "source": [
    "names.reverse()\n",
    "\n",
    "names"
   ]
  },
  {
   "cell_type": "code",
   "execution_count": 34,
   "metadata": {},
   "outputs": [
    {
     "data": {
      "text/plain": [
       "[]"
      ]
     },
     "execution_count": 34,
     "metadata": {},
     "output_type": "execute_result"
    }
   ],
   "source": [
    "names.clear()\n",
    "\n",
    "names"
   ]
  },
  {
   "cell_type": "code",
   "execution_count": 35,
   "metadata": {},
   "outputs": [
    {
     "name": "stdout",
     "output_type": "stream",
     "text": [
      "[2, 3, 4, 5, 6]\n",
      "[1, 2, 3, 4, 5, 6]\n",
      "[6, 7, 8, 9, 10]\n",
      "[1, 3, 5, 7, 9]\n",
      "[10, 9, 8, 7, 6, 5, 4, 3, 2, 1]\n"
     ]
    }
   ],
   "source": [
    "# slicing List\n",
    "\n",
    "numbers=[1,2,3,4,5,6,7,8,9,10]\n",
    "\n",
    "print(numbers[1:6])\n",
    "print(numbers[:6])\n",
    "print(numbers[5:])\n",
    "print(numbers[::2])\n",
    "print(numbers[::-1])\n",
    "\n"
   ]
  }
 ],
 "metadata": {
  "kernelspec": {
   "display_name": "base",
   "language": "python",
   "name": "python3"
  },
  "language_info": {
   "codemirror_mode": {
    "name": "ipython",
    "version": 3
   },
   "file_extension": ".py",
   "mimetype": "text/x-python",
   "name": "python",
   "nbconvert_exporter": "python",
   "pygments_lexer": "ipython3",
   "version": "3.12.7"
  }
 },
 "nbformat": 4,
 "nbformat_minor": 2
}
