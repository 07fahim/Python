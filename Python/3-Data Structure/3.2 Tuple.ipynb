{
 "cells": [
  {
   "cell_type": "code",
   "execution_count": 10,
   "metadata": {},
   "outputs": [
    {
     "name": "stdout",
     "output_type": "stream",
     "text": [
      "<class 'tuple'>\n"
     ]
    }
   ],
   "source": [
    "empty_tuple=()\n",
    "print(type(empty_tuple))"
   ]
  },
  {
   "cell_type": "code",
   "execution_count": 11,
   "metadata": {},
   "outputs": [
    {
     "name": "stdout",
     "output_type": "stream",
     "text": [
      "<class 'list'>\n",
      "<class 'tuple'>\n"
     ]
    }
   ],
   "source": [
    "lst=list()\n",
    "print(type(lst))\n",
    "\n",
    "tup=tuple()\n",
    "print(type(tup))"
   ]
  },
  {
   "cell_type": "code",
   "execution_count": 12,
   "metadata": {},
   "outputs": [
    {
     "name": "stdout",
     "output_type": "stream",
     "text": [
      "('Fahim', 7, 2.3, True)\n"
     ]
    }
   ],
   "source": [
    "mixed_tuple=(\"Fahim\",7,2.3,True)\n",
    "\n",
    "print(mixed_tuple)"
   ]
  },
  {
   "cell_type": "code",
   "execution_count": 13,
   "metadata": {},
   "outputs": [
    {
     "data": {
      "text/plain": [
       "[1, 2, 3]"
      ]
     },
     "execution_count": 13,
     "metadata": {},
     "output_type": "execute_result"
    }
   ],
   "source": [
    "list((1,2,3))"
   ]
  },
  {
   "cell_type": "code",
   "execution_count": 14,
   "metadata": {},
   "outputs": [
    {
     "name": "stdout",
     "output_type": "stream",
     "text": [
      "(1, 2, 3, 4, 5)\n"
     ]
    }
   ],
   "source": [
    "my_list = [1, 2, 3, 4, 5]\n",
    "numbers = tuple(my_list)\n",
    "print(numbers)\n"
   ]
  },
  {
   "cell_type": "code",
   "execution_count": 15,
   "metadata": {},
   "outputs": [
    {
     "name": "stdout",
     "output_type": "stream",
     "text": [
      "2\n",
      "6\n",
      "(1, 2, 3, 4, 5, 6)\n",
      "(6, 5, 4, 3, 2, 1)\n"
     ]
    }
   ],
   "source": [
    "numbers=(1,2,3,4,5,6)\n",
    "\n",
    "print(numbers[1])\n",
    "print(numbers[-1])\n",
    "print(numbers[::])\n",
    "print(numbers[::-1])"
   ]
  },
  {
   "cell_type": "code",
   "execution_count": 16,
   "metadata": {},
   "outputs": [
    {
     "name": "stdout",
     "output_type": "stream",
     "text": [
      "(1, 2, 3, 4, 5, 6, 'Fahim', 7, 2.3, True)\n"
     ]
    }
   ],
   "source": [
    "concatination_tuple=numbers + mixed_tuple\n",
    "\n",
    "print(concatination_tuple)"
   ]
  },
  {
   "cell_type": "code",
   "execution_count": 19,
   "metadata": {},
   "outputs": [
    {
     "name": "stdout",
     "output_type": "stream",
     "text": [
      "('Fahim', 7, 2.3, True, 'Fahim', 7, 2.3, True, 'Fahim', 7, 2.3, True, 'Fahim', 7, 2.3, True, 'Fahim', 7, 2.3, True)\n",
      "(1, 2, 3, 4, 5, 6, 1, 2, 3, 4, 5, 6, 1, 2, 3, 4, 5, 6, 1, 2, 3, 4, 5, 6)\n"
     ]
    }
   ],
   "source": [
    "print(mixed_tuple *5)\n",
    "\n",
    "print(numbers *4)"
   ]
  },
  {
   "cell_type": "code",
   "execution_count": 20,
   "metadata": {},
   "outputs": [
    {
     "data": {
      "text/plain": [
       "(1, 2, 3, 4, 5, 6)"
      ]
     },
     "execution_count": 20,
     "metadata": {},
     "output_type": "execute_result"
    }
   ],
   "source": [
    "numbers"
   ]
  },
  {
   "cell_type": "code",
   "execution_count": null,
   "metadata": {},
   "outputs": [
    {
     "name": "stdout",
     "output_type": "stream",
     "text": [
      "1\n",
      "3\n"
     ]
    }
   ],
   "source": [
    "# methods\n",
    "print(numbers.count(2))\n",
    "print(numbers.index(4))"
   ]
  },
  {
   "cell_type": "code",
   "execution_count": 23,
   "metadata": {},
   "outputs": [
    {
     "name": "stdout",
     "output_type": "stream",
     "text": [
      "(1, 'Fahim', 3.14, True)\n"
     ]
    }
   ],
   "source": [
    "#packing tuples\n",
    "\n",
    "packed_tuple=1,\"Fahim\",3.14,True\n",
    "\n",
    "print(packed_tuple)"
   ]
  },
  {
   "cell_type": "code",
   "execution_count": 24,
   "metadata": {},
   "outputs": [
    {
     "name": "stdout",
     "output_type": "stream",
     "text": [
      "1\n",
      "Fahim\n",
      "3.14\n",
      "True\n"
     ]
    }
   ],
   "source": [
    "#unpacking tuples\n",
    "\n",
    "a,b,c,d=packed_tuple\n",
    "\n",
    "print(a)\n",
    "print(b)\n",
    "print(c)\n",
    "print(d)\n"
   ]
  },
  {
   "cell_type": "code",
   "execution_count": 25,
   "metadata": {},
   "outputs": [
    {
     "name": "stdout",
     "output_type": "stream",
     "text": [
      "1\n",
      "[2, 3, 4, 5]\n",
      "6\n"
     ]
    }
   ],
   "source": [
    "first,*middle,last=numbers\n",
    "\n",
    "print(first)\n",
    "print(middle)\n",
    "print(last)"
   ]
  },
  {
   "cell_type": "code",
   "execution_count": 28,
   "metadata": {},
   "outputs": [
    {
     "name": "stdout",
     "output_type": "stream",
     "text": [
      "[[1, 3, 5], [2, 4, 6], [7, 9], [8, 10]]\n",
      "4\n"
     ]
    }
   ],
   "source": [
    "## Nested list\n",
    "\n",
    "num=[[1,3,5],[2,4,6],[7,9],[8,10]]\n",
    "\n",
    "print(num)\n",
    "\n",
    "print(num[1][1])"
   ]
  },
  {
   "cell_type": "code",
   "execution_count": 30,
   "metadata": {},
   "outputs": [
    {
     "name": "stdout",
     "output_type": "stream",
     "text": [
      "[[1, 3, 5], [2, 4, 6], [7, 9], (8, 10)]\n",
      "10\n"
     ]
    }
   ],
   "source": [
    "num=[[1,3,5],[2,4,6],[7,9],(8,10)]\n",
    "\n",
    "print(num)\n",
    "\n",
    "print(num[3][1])"
   ]
  },
  {
   "cell_type": "code",
   "execution_count": 32,
   "metadata": {},
   "outputs": [
    {
     "name": "stdout",
     "output_type": "stream",
     "text": [
      "((1, 3, 5), (2, 4, 6), (7, 9), (8, 10))\n",
      "6\n"
     ]
    }
   ],
   "source": [
    "## Nested tuple\n",
    "\n",
    "nested_tuple=((1,3,5),(2,4,6),(7,9),(8,10))\n",
    "\n",
    "print(nested_tuple)\n",
    "\n",
    "print(nested_tuple[1][2])"
   ]
  },
  {
   "cell_type": "code",
   "execution_count": 34,
   "metadata": {},
   "outputs": [
    {
     "name": "stdout",
     "output_type": "stream",
     "text": [
      "((1, 3, 5), (2, 4, 6), (7, 9), [8, 10])\n",
      "10\n"
     ]
    }
   ],
   "source": [
    "nested_tuple=((1,3,5),(2,4,6),(7,9),[8,10])\n",
    "\n",
    "print(nested_tuple)\n",
    "\n",
    "print(nested_tuple[3][1])"
   ]
  }
 ],
 "metadata": {
  "kernelspec": {
   "display_name": "venv",
   "language": "python",
   "name": "python3"
  },
  "language_info": {
   "codemirror_mode": {
    "name": "ipython",
    "version": 3
   },
   "file_extension": ".py",
   "mimetype": "text/x-python",
   "name": "python",
   "nbconvert_exporter": "python",
   "pygments_lexer": "ipython3",
   "version": "3.12.7"
  }
 },
 "nbformat": 4,
 "nbformat_minor": 2
}
