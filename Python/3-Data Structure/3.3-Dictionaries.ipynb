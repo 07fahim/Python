{
 "cells": [
  {
   "cell_type": "code",
   "execution_count": 2,
   "metadata": {},
   "outputs": [
    {
     "name": "stdout",
     "output_type": "stream",
     "text": [
      "{}\n",
      "<class 'dict'>\n"
     ]
    }
   ],
   "source": [
    "empty_dic={}\n",
    "\n",
    "print(empty_dic)\n",
    "\n",
    "print(type(empty_dic))"
   ]
  },
  {
   "cell_type": "code",
   "execution_count": 4,
   "metadata": {},
   "outputs": [
    {
     "name": "stdout",
     "output_type": "stream",
     "text": [
      "{}\n",
      "<class 'dict'>\n"
     ]
    }
   ],
   "source": [
    "empty_dic=dict()\n",
    "\n",
    "print(empty_dic)\n",
    "\n",
    "print(type(empty_dic))"
   ]
  },
  {
   "cell_type": "code",
   "execution_count": 5,
   "metadata": {},
   "outputs": [
    {
     "data": {
      "text/plain": [
       "{'name': 'Fahim', 'age': 25, 'grade': 'A'}"
      ]
     },
     "execution_count": 5,
     "metadata": {},
     "output_type": "execute_result"
    }
   ],
   "source": [
    "students={\"name\":\"Fahim\",\"age\":25,\"grade\":\"A\"}\n",
    "\n",
    "students"
   ]
  },
  {
   "cell_type": "code",
   "execution_count": 7,
   "metadata": {},
   "outputs": [
    {
     "name": "stdout",
     "output_type": "stream",
     "text": [
      "Fahim\n",
      "25\n"
     ]
    }
   ],
   "source": [
    "print(students[\"name\"])\n",
    "print(students[\"age\"])"
   ]
  },
  {
   "cell_type": "code",
   "execution_count": 9,
   "metadata": {},
   "outputs": [
    {
     "name": "stdout",
     "output_type": "stream",
     "text": [
      "Fahim\n",
      "25\n",
      "No data\n"
     ]
    }
   ],
   "source": [
    "print(students.get(\"name\"))\n",
    "print(students.get(\"age\"))\n",
    "print(students.get(\"last_name\",\"No data\"))"
   ]
  },
  {
   "cell_type": "code",
   "execution_count": 11,
   "metadata": {},
   "outputs": [
    {
     "name": "stdout",
     "output_type": "stream",
     "text": [
      "{'name': 'Fahim', 'age': 25, 'grade': 'A+'}\n",
      "{'name': 'Fahim', 'age': 25, 'grade': 'A+', 'address': 'CTG'}\n"
     ]
    }
   ],
   "source": [
    "students[\"grade\"]=\"A+\"\n",
    "print(students)\n",
    "\n",
    "students[\"address\"]=\"CTG\"\n",
    "print(students)"
   ]
  },
  {
   "cell_type": "code",
   "execution_count": null,
   "metadata": {},
   "outputs": [
    {
     "name": "stdout",
     "output_type": "stream",
     "text": [
      "{'name': 'Fahim', 'age': 25, 'address': 'CTG'}\n"
     ]
    }
   ],
   "source": [
    "del students[\"grade\"]\n",
    "print(students)\n"
   ]
  },
  {
   "cell_type": "code",
   "execution_count": 14,
   "metadata": {},
   "outputs": [
    {
     "name": "stdout",
     "output_type": "stream",
     "text": [
      "dict_keys(['name', 'age', 'address'])\n",
      "dict_values(['Fahim', 25, 'CTG'])\n",
      "dict_items([('name', 'Fahim'), ('age', 25), ('address', 'CTG')])\n"
     ]
    }
   ],
   "source": [
    "keys=students.keys()\n",
    "print(keys)\n",
    "\n",
    "values=students.values()\n",
    "print(values)\n",
    "\n",
    "items=students.items()\n",
    "print(items)"
   ]
  },
  {
   "cell_type": "code",
   "execution_count": 33,
   "metadata": {},
   "outputs": [
    {
     "name": "stdout",
     "output_type": "stream",
     "text": [
      "{'name': 'Faiyaz', 'age': 25, 'address': 'CTG'}\n"
     ]
    }
   ],
   "source": [
    "print(students)"
   ]
  },
  {
   "cell_type": "code",
   "execution_count": 36,
   "metadata": {},
   "outputs": [
    {
     "name": "stdout",
     "output_type": "stream",
     "text": [
      "{'name': 'Fahim', 'age': 25, 'address': 'CTG'}\n"
     ]
    }
   ],
   "source": [
    "students_copy3=students.copy()\n",
    "print(students_copy3)"
   ]
  },
  {
   "cell_type": "code",
   "execution_count": 38,
   "metadata": {},
   "outputs": [
    {
     "name": "stdout",
     "output_type": "stream",
     "text": [
      "{'name': 'Fahim', 'age': 25, 'address': 'CTG'}\n",
      "{'name': 'Faiyaz', 'age': 25, 'address': 'CTG'}\n"
     ]
    }
   ],
   "source": [
    "students[\"name\"]=\"Faiyaz\"\n",
    "print(students_copy3)\n",
    "print(students)"
   ]
  },
  {
   "cell_type": "code",
   "execution_count": null,
   "metadata": {},
   "outputs": [],
   "source": []
  }
 ],
 "metadata": {
  "kernelspec": {
   "display_name": "venv",
   "language": "python",
   "name": "python3"
  },
  "language_info": {
   "codemirror_mode": {
    "name": "ipython",
    "version": 3
   },
   "file_extension": ".py",
   "mimetype": "text/x-python",
   "name": "python",
   "nbconvert_exporter": "python",
   "pygments_lexer": "ipython3",
   "version": "3.12.7"
  }
 },
 "nbformat": 4,
 "nbformat_minor": 2
}
