{
 "cells": [
  {
   "cell_type": "markdown",
   "metadata": {},
   "source": [
    "## TO DO TASK  "
   ]
  },
  {
   "cell_type": "code",
   "execution_count": 1,
   "metadata": {},
   "outputs": [
    {
     "name": "stdout",
     "output_type": "stream",
     "text": [
      "Do not forget to Complete Fozor namaz\n",
      "To do task reamining\n",
      "-Complete Fozor namaz\n",
      "-Go to sleep\n",
      "-Wake up in 2 pm\n",
      "-Taking Lunch\n",
      "-Play Fifa 24\n"
     ]
    }
   ],
   "source": [
    "to_do_list=[\"Complete Fozor namaz\",\"Go to sleep\",\"Wake up in 2 pm\"]\n",
    "\n",
    "# add task\n",
    "\n",
    "to_do_list.append(\"Taking Lunch\")\n",
    "to_do_list.append(\"Doing Code\")\n",
    "to_do_list.append(\"Play Fifa 24\")\n",
    "\n",
    "#remove a task \n",
    "to_do_list.remove(\"Doing Code\")\n",
    "\n",
    "# check a task present in a list\n",
    "\n",
    "if \"Complete Fozor namaz\" in to_do_list:\n",
    "    print(\"Do not forget to Complete Fozor namaz\")\n",
    "\n",
    "print(\"To do task reamining\")\n",
    "\n",
    "for task in to_do_list:\n",
    "    print(f\"-{task}\")"
   ]
  },
  {
   "cell_type": "markdown",
   "metadata": {},
   "source": [
    "## Organizing Student Grade\n"
   ]
  },
  {
   "cell_type": "code",
   "execution_count": 2,
   "metadata": {},
   "outputs": [
    {
     "name": "stdout",
     "output_type": "stream",
     "text": [
      "Average Grade : 85.14\n",
      "Highest Grade : 95\n",
      "Lowest Grade : 65\n"
     ]
    }
   ],
   "source": [
    "grades=[89,76,88,93,65,90]\n",
    "\n",
    "grades.append(95)\n",
    "\n",
    "avg_grade=sum(grades)/len(grades)\n",
    "print(f\"Average Grade : {avg_grade:.2f}\")\n",
    "\n",
    "highest_grade=max(grades)\n",
    "lowest_grade=min(grades)\n",
    "\n",
    "print(f\"Highest Grade : {highest_grade}\")\n",
    "print(f\"Lowest Grade : {lowest_grade}\")"
   ]
  }
 ],
 "metadata": {
  "kernelspec": {
   "display_name": "venv",
   "language": "python",
   "name": "python3"
  },
  "language_info": {
   "codemirror_mode": {
    "name": "ipython",
    "version": 3
   },
   "file_extension": ".py",
   "mimetype": "text/x-python",
   "name": "python",
   "nbconvert_exporter": "python",
   "pygments_lexer": "ipython3",
   "version": "3.12.7"
  }
 },
 "nbformat": 4,
 "nbformat_minor": 2
}
