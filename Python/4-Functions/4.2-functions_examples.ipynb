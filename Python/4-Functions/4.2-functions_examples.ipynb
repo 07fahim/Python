{
 "cells": [
  {
   "cell_type": "markdown",
   "metadata": {},
   "source": [
    "## Temperature Conversion"
   ]
  },
  {
   "cell_type": "code",
   "execution_count": 1,
   "metadata": {},
   "outputs": [],
   "source": [
    "def temp_conv(temp,unit):\n",
    "    if unit==\"C\":\n",
    "        return temp * 9/5 +32 # C to F\n",
    "    elif unit==\"F\":\n",
    "        return (temp-32)*5/9 # F to C\n",
    "    else:\n",
    "        return None"
   ]
  },
  {
   "cell_type": "code",
   "execution_count": 5,
   "metadata": {},
   "outputs": [
    {
     "name": "stdout",
     "output_type": "stream",
     "text": [
      "77.0°F.\n",
      "25.0°C.\n"
     ]
    }
   ],
   "source": [
    "print(f\"{temp_conv(25, 'C')}°F.\")\n",
    "print(f\"{temp_conv(77, 'F')}°C.\")"
   ]
  }
 ],
 "metadata": {
  "kernelspec": {
   "display_name": "venv",
   "language": "python",
   "name": "python3"
  },
  "language_info": {
   "codemirror_mode": {
    "name": "ipython",
    "version": 3
   },
   "file_extension": ".py",
   "mimetype": "text/x-python",
   "name": "python",
   "nbconvert_exporter": "python",
   "pygments_lexer": "ipython3",
   "version": "3.12.7"
  }
 },
 "nbformat": 4,
 "nbformat_minor": 2
}
