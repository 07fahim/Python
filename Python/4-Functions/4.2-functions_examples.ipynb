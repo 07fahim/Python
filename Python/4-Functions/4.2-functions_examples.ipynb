{
 "cells": [
  {
   "cell_type": "markdown",
   "metadata": {},
   "source": [
    "## Temperature Conversion"
   ]
  },
  {
   "cell_type": "code",
   "execution_count": 1,
   "metadata": {},
   "outputs": [],
   "source": [
    "def temp_conv(temp,unit):\n",
    "    if unit==\"C\":\n",
    "        return temp * 9/5 +32 # C to F\n",
    "    elif unit==\"F\":\n",
    "        return (temp-32)*5/9 # F to C\n",
    "    else:\n",
    "        return None"
   ]
  },
  {
   "cell_type": "code",
   "execution_count": 5,
   "metadata": {},
   "outputs": [
    {
     "name": "stdout",
     "output_type": "stream",
     "text": [
      "77.0°F.\n",
      "25.0°C.\n"
     ]
    }
   ],
   "source": [
    "print(f\"{temp_conv(25, 'C')}°F.\")\n",
    "print(f\"{temp_conv(77, 'F')}°C.\")"
   ]
  },
  {
   "cell_type": "markdown",
   "metadata": {},
   "source": [
    "## Strong Password Checker"
   ]
  },
  {
   "cell_type": "code",
   "execution_count": 17,
   "metadata": {},
   "outputs": [],
   "source": [
    "def strong_pass(password):\n",
    "    if not password:  \n",
    "        return \"Password cannot be empty or null\"\n",
    "    if len(password)<8:\n",
    "        return \"Your password should 8 characters long\"\n",
    "    if not any(char.isdigit() for char in password):\n",
    "        return \"Not Strong Password,Your password should have digits\"\n",
    "    if not any(char.islower() for char in password):\n",
    "        return \"Not Strong Password,Your password should have lower charcter\"\n",
    "    if not any(char.isupper() for char in password):\n",
    "        return \"Not Strong Password,Your password should have upper charcter\"\n",
    "    if not any(char in \"@#$%^&*_+\" for char in password):\n",
    "        return \"Not Strong Password,Your password should have sepical charcter\"\n",
    "    \n",
    "    return \"Strong Password\""
   ]
  },
  {
   "cell_type": "code",
   "execution_count": 18,
   "metadata": {},
   "outputs": [
    {
     "name": "stdout",
     "output_type": "stream",
     "text": [
      "Not Strong Password,Your password should have sepical charcter\n",
      "Strong Password\n",
      "Password cannot be empty or null\n"
     ]
    }
   ],
   "source": [
    "print(strong_pass(\"kdadhIDhd3\"))\n",
    "print(strong_pass(\"kdadhIDhd3+&\"))\n",
    "print(strong_pass(\"\"))"
   ]
  },
  {
   "cell_type": "markdown",
   "metadata": {},
   "source": [
    "## Calculate Total cost of shopping cart"
   ]
  },
  {
   "cell_type": "code",
   "execution_count": 20,
   "metadata": {},
   "outputs": [
    {
     "name": "stdout",
     "output_type": "stream",
     "text": [
      "Total cost: 200Tk\n"
     ]
    }
   ],
   "source": [
    "def Calculate_total_cost(cart):\n",
    "    total_cost=0\n",
    "    for item in cart:\n",
    "        total_cost+=item[\"price\"]*item['qty']\n",
    "    return total_cost    \n",
    "\n",
    "\n",
    "    \n",
    "\n",
    "cart=[\n",
    "    {'namde':'Apple','price':5,'qty':4},\n",
    "    {'namde':'Jack fruit','price':10,'qty':6},\n",
    "    {'namde':'Mango','price':15,'qty':8}\n",
    "]\n",
    "\n",
    "print(f\"Total cost: {Calculate_total_cost(cart)}Tk\")"
   ]
  },
  {
   "cell_type": "markdown",
   "metadata": {},
   "source": [
    "## Check is Palindrome"
   ]
  },
  {
   "cell_type": "code",
   "execution_count": 21,
   "metadata": {},
   "outputs": [
    {
     "name": "stdout",
     "output_type": "stream",
     "text": [
      "True\n",
      "False\n"
     ]
    }
   ],
   "source": [
    "def is_pelindrome(s):\n",
    "    s=s.lower().replace(\" \",\"\")\n",
    "    return s==s[::-1]\n",
    "\n",
    "print(is_pelindrome(\"A man a plan a canal Panama\"))\n",
    "print(is_pelindrome(\"hello\"))"
   ]
  },
  {
   "cell_type": "markdown",
   "metadata": {},
   "source": [
    "## Calculate the Factorials of a number using recursion"
   ]
  },
  {
   "cell_type": "code",
   "execution_count": 24,
   "metadata": {},
   "outputs": [
    {
     "name": "stdout",
     "output_type": "stream",
     "text": [
      "720\n"
     ]
    }
   ],
   "source": [
    "def factorial(num):\n",
    "    if num==0:\n",
    "        return 1\n",
    "    else:\n",
    "        return num * factorial(num-1)\n",
    "    \n",
    "print(factorial(6))    "
   ]
  }
 ],
 "metadata": {
  "kernelspec": {
   "display_name": "venv",
   "language": "python",
   "name": "python3"
  },
  "language_info": {
   "codemirror_mode": {
    "name": "ipython",
    "version": 3
   },
   "file_extension": ".py",
   "mimetype": "text/x-python",
   "name": "python",
   "nbconvert_exporter": "python",
   "pygments_lexer": "ipython3",
   "version": "3.12.7"
  }
 },
 "nbformat": 4,
 "nbformat_minor": 2
}
