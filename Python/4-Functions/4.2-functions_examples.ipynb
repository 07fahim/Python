{
 "cells": [
  {
   "cell_type": "markdown",
   "metadata": {},
   "source": [
    "## Temperature Conversion"
   ]
  },
  {
   "cell_type": "code",
   "execution_count": 1,
   "metadata": {},
   "outputs": [],
   "source": [
    "def temp_conv(temp,unit):\n",
    "    if unit==\"C\":\n",
    "        return temp * 9/5 +32 # C to F\n",
    "    elif unit==\"F\":\n",
    "        return (temp-32)*5/9 # F to C\n",
    "    else:\n",
    "        return None"
   ]
  },
  {
   "cell_type": "code",
   "execution_count": 5,
   "metadata": {},
   "outputs": [
    {
     "name": "stdout",
     "output_type": "stream",
     "text": [
      "77.0°F.\n",
      "25.0°C.\n"
     ]
    }
   ],
   "source": [
    "print(f\"{temp_conv(25, 'C')}°F.\")\n",
    "print(f\"{temp_conv(77, 'F')}°C.\")"
   ]
  },
  {
   "cell_type": "markdown",
   "metadata": {},
   "source": [
    "## Strong Password Checker"
   ]
  },
  {
   "cell_type": "code",
   "execution_count": 17,
   "metadata": {},
   "outputs": [],
   "source": [
    "def strong_pass(password):\n",
    "    if not password:  \n",
    "        return \"Password cannot be empty or null\"\n",
    "    if len(password)<8:\n",
    "        return \"Your password should 8 characters long\"\n",
    "    if not any(char.isdigit() for char in password):\n",
    "        return \"Not Strong Password,Your password should have digits\"\n",
    "    if not any(char.islower() for char in password):\n",
    "        return \"Not Strong Password,Your password should have lower charcter\"\n",
    "    if not any(char.isupper() for char in password):\n",
    "        return \"Not Strong Password,Your password should have upper charcter\"\n",
    "    if not any(char in \"@#$%^&*_+\" for char in password):\n",
    "        return \"Not Strong Password,Your password should have sepical charcter\"\n",
    "    \n",
    "    return \"Strong Password\""
   ]
  },
  {
   "cell_type": "code",
   "execution_count": 18,
   "metadata": {},
   "outputs": [
    {
     "name": "stdout",
     "output_type": "stream",
     "text": [
      "Not Strong Password,Your password should have sepical charcter\n",
      "Strong Password\n",
      "Password cannot be empty or null\n"
     ]
    }
   ],
   "source": [
    "print(strong_pass(\"kdadhIDhd3\"))\n",
    "print(strong_pass(\"kdadhIDhd3+&\"))\n",
    "print(strong_pass(\"\"))"
   ]
  },
  {
   "cell_type": "markdown",
   "metadata": {},
   "source": [
    "## Calculate Total cost of shopping cart"
   ]
  },
  {
   "cell_type": "code",
   "execution_count": 20,
   "metadata": {},
   "outputs": [
    {
     "name": "stdout",
     "output_type": "stream",
     "text": [
      "Total cost: 200Tk\n"
     ]
    }
   ],
   "source": [
    "def Calculate_total_cost(cart):\n",
    "    total_cost=0\n",
    "    for item in cart:\n",
    "        total_cost+=item[\"price\"]*item['qty']\n",
    "    return total_cost    \n",
    "\n",
    "\n",
    "    \n",
    "\n",
    "cart=[\n",
    "    {'namde':'Apple','price':5,'qty':4},\n",
    "    {'namde':'Jack fruit','price':10,'qty':6},\n",
    "    {'namde':'Mango','price':15,'qty':8}\n",
    "]\n",
    "\n",
    "print(f\"Total cost: {Calculate_total_cost(cart)}Tk\")"
   ]
  },
  {
   "cell_type": "markdown",
   "metadata": {},
   "source": [
    "## Check is Palindrome"
   ]
  },
  {
   "cell_type": "code",
   "execution_count": 21,
   "metadata": {},
   "outputs": [
    {
     "name": "stdout",
     "output_type": "stream",
     "text": [
      "True\n",
      "False\n"
     ]
    }
   ],
   "source": [
    "def is_pelindrome(s):\n",
    "    s=s.lower().replace(\" \",\"\")\n",
    "    return s==s[::-1]\n",
    "\n",
    "print(is_pelindrome(\"A man a plan a canal Panama\"))\n",
    "print(is_pelindrome(\"hello\"))"
   ]
  },
  {
   "cell_type": "markdown",
   "metadata": {},
   "source": [
    "## Calculate the Factorials of a number using recursion"
   ]
  },
  {
   "cell_type": "code",
   "execution_count": 24,
   "metadata": {},
   "outputs": [
    {
     "name": "stdout",
     "output_type": "stream",
     "text": [
      "720\n"
     ]
    }
   ],
   "source": [
    "def factorial(num):\n",
    "    if num==0:\n",
    "        return 1\n",
    "    else:\n",
    "        return num * factorial(num-1)\n",
    "    \n",
    "print(factorial(6))    "
   ]
  },
  {
   "cell_type": "markdown",
   "metadata": {},
   "source": [
    "## Read a file then count the word frequency"
   ]
  },
  {
   "cell_type": "code",
   "execution_count": null,
   "metadata": {},
   "outputs": [
    {
     "name": "stdout",
     "output_type": "stream",
     "text": [
      "{'hello': 2, 'world': 2, 'again': 1, 'of': 1, 'programming': 1, 'is': 1, 'vast': 1}\n"
     ]
    }
   ],
   "source": [
    "def count_word_frequency(file_path):\n",
    "    word_count={}\n",
    "    with open(file_path,'r') as file:\n",
    "        for line in file:\n",
    "            words=line.split()\n",
    "            for word in words:\n",
    "                word=word.lower().strip('.,/!?;\":')\n",
    "                word_count[word]=word_count.get(word,0)+1\n",
    "\n",
    "    return word_count\n",
    "\n",
    "filepath=\"sample.txt\"\n",
    "word_frequency=count_word_frequency(filepath)\n",
    "print(word_frequency)            "
   ]
  },
  {
   "cell_type": "markdown",
   "metadata": {},
   "source": [
    "## Check if Valid email"
   ]
  },
  {
   "cell_type": "code",
   "execution_count": 32,
   "metadata": {},
   "outputs": [
    {
     "name": "stdout",
     "output_type": "stream",
     "text": [
      "test@example.com: Valid Email\n",
      "invalid-email: Invalid Email\n"
     ]
    }
   ],
   "source": [
    "import re\n",
    "\n",
    "# Email validation function\n",
    "def is_valid_email(email):\n",
    "    pattern = r'^[a-zA-Z0-9_.+-]+@[a-zA-Z0-9-]+\\.[a-zA-Z0-9-.]+$'\n",
    "    return re.match(pattern, email) is not None\n",
    "\n",
    "# Calling the function and printing results\n",
    "email_1 = \"test@example.com\"\n",
    "email_2 = \"invalid-email\"\n",
    "\n",
    "print(f\"{email_1}: {'Valid Email' if is_valid_email(email_1) else 'Invalid Email'}\")\n",
    "print(f\"{email_2}: {'Valid Email' if is_valid_email(email_2) else 'Invalid Email'}\")\n"
   ]
  }
 ],
 "metadata": {
  "kernelspec": {
   "display_name": "venv",
   "language": "python",
   "name": "python3"
  },
  "language_info": {
   "codemirror_mode": {
    "name": "ipython",
    "version": 3
   },
   "file_extension": ".py",
   "mimetype": "text/x-python",
   "name": "python",
   "nbconvert_exporter": "python",
   "pygments_lexer": "ipython3",
   "version": "3.12.7"
  }
 },
 "nbformat": 4,
 "nbformat_minor": 2
}
